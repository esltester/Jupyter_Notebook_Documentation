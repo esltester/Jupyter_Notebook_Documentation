{
 "cells": [
  {
   "cell_type": "code",
   "execution_count": 1,
   "id": "06adc632",
   "metadata": {},
   "outputs": [
    {
     "name": "stdout",
     "output_type": "stream",
     "text": [
      "Hello world\n"
     ]
    }
   ],
   "source": [
    "print(\"Hello world\")"
   ]
  },
  {
   "cell_type": "markdown",
   "id": "8f4427bd",
   "metadata": {},
   "source": [
    "# This is a markdown title\n",
    "\n",
    "* and here are some \n",
    "* bulleted list entries"
   ]
  },
  {
   "cell_type": "code",
   "execution_count": null,
   "id": "ef943940",
   "metadata": {},
   "outputs": [],
   "source": []
  }
 ],
 "metadata": {
  "kernelspec": {
   "display_name": "Python 3",
   "language": "python",
   "name": "python3"
  },
  "language_info": {
   "codemirror_mode": {
    "name": "ipython",
    "version": 3
   },
   "file_extension": ".py",
   "mimetype": "text/x-python",
   "name": "python",
   "nbconvert_exporter": "python",
   "pygments_lexer": "ipython3",
   "version": "3.7.10"
  }
 },
 "nbformat": 4,
 "nbformat_minor": 5
}
